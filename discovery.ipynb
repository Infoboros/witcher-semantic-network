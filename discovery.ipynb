{
 "cells": [
  {
   "cell_type": "code",
   "execution_count": 1,
   "outputs": [],
   "source": [
    "from witcher_network import WitcherNetwork\n",
    "\n",
    "network = WitcherNetwork()"
   ],
   "metadata": {
    "collapsed": false
   }
  },
  {
   "cell_type": "code",
   "execution_count": 2,
   "outputs": [
    {
     "data": {
      "text/plain": "['Ostrit',\n 'Daniel',\n 'Golan',\n 'Baron',\n 'King',\n 'Vanadain',\n 'Beau',\n 'Everett',\n 'Nimue',\n 'Adalia',\n 'Reynard',\n 'Eudora',\n 'Paulie',\n 'Nivellen',\n 'Eltibald',\n 'Vesemir',\n 'Artaud',\n 'Regan',\n 'Dennis',\n 'Bran',\n 'Meve',\n 'Sigismund',\n 'Kayleigh',\n 'Libushe',\n 'Nohorn',\n 'Adda',\n 'Fredefalk',\n 'Agloval',\n 'Caldemeyn',\n 'Roegner',\n 'Mistle',\n 'Braathens',\n 'Percival',\n 'Menno',\n 'Ciri',\n 'Ithlinne',\n 'Stregobor',\n 'Merlin',\n 'Yannick',\n 'Fringilla',\n 'Vysogota',\n 'Errdil',\n 'Radovid',\n 'Ravix',\n 'Arthur',\n 'Connor',\n 'Veverka',\n 'Stefan',\n 'Zoltan',\n 'Count',\n 'Fabio',\n 'Torque',\n 'Pavetta',\n 'Xarthisius',\n 'Yarpen',\n 'Esterad',\n 'Jacob',\n 'Vereena',\n 'Milo',\n 'Herbolth',\n 'Chireadan',\n 'Gar',\n 'Audoen',\n 'Filavandrel',\n 'Essi',\n 'Jarre',\n 'Cyrus',\n 'Braenn',\n 'Freixenet',\n 'Isengrim',\n 'Neville',\n 'Yennefer',\n 'Fenne',\n 'Mousesack',\n 'Rayla',\n 'Foltest',\n 'Morvran',\n 'Vattier',\n 'Haxo',\n 'Falwick',\n 'Rudiger',\n 'Puttkammer',\n 'Eithné',\n 'Calanthe',\n 'Jan',\n 'Two',\n 'Xavier',\n 'Maria',\n 'Galarr',\n 'Voymir',\n 'Dhun',\n 'Lambert',\n 'Elan',\n 'Stavro',\n 'Shani',\n 'Donimir',\n 'Horm',\n 'Adam',\n 'Morteisen',\n 'Dorregaray',\n 'Munro',\n 'Figgis',\n 'Bronibor',\n 'Albrich',\n 'Ramon',\n 'Asse',\n 'Geralt',\n 'Yurga',\n 'Carthia',\n 'Fifteen',\n 'Velerad',\n 'Dandelion',\n 'Zelest',\n 'Kobus',\n 'Cahir',\n 'Visenna',\n 'Milva',\n 'Crach',\n 'Julia',\n 'Sabrina',\n 'Triss',\n 'Duke',\n 'Vratimir',\n 'Rience',\n 'Iola',\n 'Vissegerd',\n 'Lydia',\n 'Demavend',\n 'Stella',\n 'Draig',\n 'Dyffryn',\n 'Leo',\n 'Windsor',\n 'Reynart',\n 'Molnar',\n 'Keira',\n 'Vespula',\n 'Fergus',\n 'Lille',\n 'Tissaia',\n 'Palmerin',\n 'Eist',\n 'Hereward',\n 'Lytta',\n 'Ori',\n 'Iskra',\n 'Little',\n 'Emhyr',\n 'Vanielle',\n 'Aen',\n 'Renfri',\n 'Brouver',\n 'Ihuarraquax',\n 'Aillil',\n 'Aplegatt',\n 'Lucienne',\n 'Ethain',\n 'Fauve',\n 'Shilard',\n 'Carduin',\n 'Francesca',\n 'Nettly',\n 'Eredin',\n 'Sir',\n 'Lebioda',\n 'Milton',\n 'Laurelnose',\n 'Field',\n 'Guy',\n 'Fulko',\n 'Vimme',\n 'Margarita',\n 'Rainfarn',\n 'Nenneke',\n 'Sheala',\n 'Vilgefortz',\n 'Teleri',\n 'Roach',\n 'Anna',\n 'Windhalm',\n 'Seven',\n 'Riordain',\n 'Codringher',\n 'Aelirenn',\n 'Eskel',\n 'Drogodar',\n 'Henselt',\n 'Ekkehard',\n 'Dudu',\n 'Blue',\n 'Sword',\n 'Ardal',\n 'Venzlav',\n 'Yaevinn',\n 'Sievers',\n 'Civril',\n 'Auberon',\n 'Joanna',\n 'Tavik',\n 'Joachim',\n 'Toruviel',\n 'Aubry',\n 'Zuleyka',\n 'Ceallach',\n 'Marti',\n 'Vreemde',\n 'Sheldon',\n 'Falka',\n 'Philippa',\n 'Ambassador',\n 'Assire',\n 'Istredd',\n 'Emiel',\n 'Barclay',\n 'Sigrdrifa',\n 'Rumplestelt',\n 'Hjalmar',\n 'Forest',\n 'Zyvik',\n 'Leticia',\n 'Ida',\n 'Akerspaark',\n 'Alzur',\n 'Kelpie']"
     },
     "execution_count": 2,
     "metadata": {},
     "output_type": "execute_result"
    }
   ],
   "source": [
    "network.all_nodes()"
   ],
   "metadata": {
    "collapsed": false
   }
  },
  {
   "cell_type": "code",
   "execution_count": 3,
   "outputs": [
    {
     "name": "stdout",
     "output_type": "stream",
     "text": [
      "['Ostrit', 'Baron', 'King', 'Vanadain', 'Beau', 'Nivellen', 'Vesemir', 'Dennis', 'Libushe', 'Nohorn', 'Adda', 'Fredefalk', 'Caldemeyn', 'Roegner', 'Stregobor', 'Errdil', 'Ravix', 'Count', 'Torque', 'Pavetta', 'Vereena', 'Chireadan', 'Audoen', 'Filavandrel', 'Neville', 'Yennefer', 'Fenne', 'Mousesack', 'Foltest', 'Haxo', 'Falwick', 'Calanthe', 'Two', 'Galarr', 'Dhun', 'Asse', 'Geralt', 'Fifteen', 'Velerad', 'Crach', 'Triss', 'Vratimir', 'Iola', 'Vissegerd', 'Draig', 'Lille', 'Eist', 'Hereward', 'Aen', 'Renfri', 'Nettly', 'Sir', 'Laurelnose', 'Field', 'Rainfarn', 'Nenneke', 'Roach', 'Windhalm', 'Eskel', 'Drogodar', 'Civril', 'Tavik', 'Toruviel', 'Rumplestelt', 'Akerspaark']\n",
      "65\n"
     ]
    }
   ],
   "source": [
    "characters = network.all_nodes_with_link('1')\n",
    "print(characters)\n",
    "print(len(characters))"
   ],
   "metadata": {
    "collapsed": false
   }
  },
  {
   "cell_type": "code",
   "execution_count": 4,
   "outputs": [
    {
     "data": {
      "text/plain": "['Baron',\n 'King',\n 'Beau',\n 'Nimue',\n 'Paulie',\n 'Vesemir',\n 'Regan',\n 'Bran',\n 'Kayleigh',\n 'Meve',\n 'Mistle',\n 'Yannick',\n 'Fringilla',\n 'Vysogota',\n 'Radovid',\n 'Stefan',\n 'Zoltan',\n 'Count',\n 'Fabio',\n 'Pavetta',\n 'Yarpen',\n 'Braenn',\n 'Freixenet',\n 'Gar',\n 'Jarre',\n 'Mousesack',\n 'Yennefer',\n 'Rayla',\n 'Eithné',\n 'Calanthe',\n 'Jan',\n 'Two',\n 'Lambert',\n 'Stavro',\n 'Shani',\n 'Asse',\n 'Geralt',\n 'Yurga',\n 'Milva',\n 'Cahir',\n 'Dandelion',\n 'Crach',\n 'Julia',\n 'Sabrina',\n 'Triss',\n 'Lydia',\n 'Rience',\n 'Iola',\n 'Windsor',\n 'Leo',\n 'Vissegerd',\n 'Molnar',\n 'Tissaia',\n 'Eist',\n 'Ori',\n 'Iskra',\n 'Emhyr',\n 'Little',\n 'Vanielle',\n 'Aen',\n 'Ihuarraquax',\n 'Aplegatt',\n 'Shilard',\n 'Francesca',\n 'Eredin',\n 'Sir',\n 'Guy',\n 'Margarita',\n 'Nenneke',\n 'Vilgefortz',\n 'Anna',\n 'Roach',\n 'Seven',\n 'Codringher',\n 'Aelirenn',\n 'Eskel',\n 'Henselt',\n 'Blue',\n 'Sword',\n 'Yaevinn',\n 'Auberon',\n 'Zuleyka',\n 'Marti',\n 'Falka',\n 'Philippa',\n 'Assire',\n 'Emiel',\n 'Sigrdrifa',\n 'Hjalmar',\n 'Kelpie']"
     },
     "execution_count": 4,
     "metadata": {},
     "output_type": "execute_result"
    }
   ],
   "source": [
    "network.all_linked('Ciri')"
   ],
   "metadata": {
    "collapsed": false
   }
  },
  {
   "cell_type": "code",
   "execution_count": 6,
   "outputs": [
    {
     "data": {
      "text/plain": "['Nenneke',\n 'Neville',\n 'Beau',\n 'Errdil',\n 'Laurelnose',\n 'Iola',\n 'Chireadan',\n 'Geralt']"
     },
     "execution_count": 6,
     "metadata": {},
     "output_type": "execute_result"
    }
   ],
   "source": [
    "network.all_linked_by_type('Yennefer', '1')"
   ],
   "metadata": {
    "collapsed": false
   }
  },
  {
   "cell_type": "code",
   "execution_count": null,
   "outputs": [],
   "source": [],
   "metadata": {
    "collapsed": false
   }
  }
 ],
 "metadata": {
  "kernelspec": {
   "display_name": "Python 3",
   "language": "python",
   "name": "python3"
  },
  "language_info": {
   "codemirror_mode": {
    "name": "ipython",
    "version": 2
   },
   "file_extension": ".py",
   "mimetype": "text/x-python",
   "name": "python",
   "nbconvert_exporter": "python",
   "pygments_lexer": "ipython2",
   "version": "2.7.6"
  }
 },
 "nbformat": 4,
 "nbformat_minor": 0
}
