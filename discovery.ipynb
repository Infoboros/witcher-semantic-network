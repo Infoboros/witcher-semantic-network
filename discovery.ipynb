{
 "cells": [
  {
   "cell_type": "code",
   "execution_count": null,
   "outputs": [],
   "source": [
    "from witcher_network import WitcherNetwork\n",
    "\n",
    "network = WitcherNetwork()"
   ],
   "metadata": {
    "collapsed": false,
    "pycharm": {
     "is_executing": true
    }
   }
  },
  {
   "cell_type": "code",
   "execution_count": 2,
   "outputs": [
    {
     "data": {
      "text/plain": "['Alzur',\n 'Crach',\n 'Palmerin',\n 'Nohorn',\n 'Everett',\n 'Rience',\n 'Calanthe',\n 'Akerspaark',\n 'Windhalm',\n 'Codringher',\n 'Vesemir',\n 'Puttkammer',\n 'Cyrus',\n 'Eredin',\n 'Eudora',\n 'Audoen',\n 'Munro',\n 'Percival',\n 'Stregobor',\n 'Asse',\n 'Ardal',\n 'Horm',\n 'Fulko',\n 'Marti',\n 'Maria',\n 'Lydia',\n 'Rumplestelt',\n 'Venzlav',\n 'Sievers',\n 'Aelirenn',\n 'Dyffryn',\n 'Anna',\n 'Chireadan',\n 'Morteisen',\n 'Laurelnose',\n 'Veverka',\n 'Yannick',\n 'Molnar',\n 'Julia',\n 'Bronibor',\n 'Nivellen',\n 'Iskra',\n 'Assire',\n 'Aubry',\n 'Dhun',\n 'Vysogota',\n 'Pavetta',\n 'Joanna',\n 'Seven',\n 'Meve',\n 'Nenneke',\n 'Little',\n 'Zyvik',\n 'Vissegerd',\n 'Joachim',\n 'Albrich',\n 'Fredefalk',\n 'Yennefer',\n 'Draig',\n 'Rayla',\n 'Milva',\n 'Ramon',\n 'Vespula',\n 'Ekkehard',\n 'Lucienne',\n 'Figgis',\n 'Visenna',\n 'Xavier',\n 'Ostrit',\n 'Eist',\n 'Neville',\n 'Gar',\n 'Beau',\n 'Sir',\n 'Teleri',\n 'Vanielle',\n 'Margarita',\n 'Essi',\n 'Daniel',\n 'Yarpen',\n 'Velerad',\n 'Vanadain',\n 'Fauve',\n 'Milo',\n 'Roach',\n 'Lille',\n 'Stella',\n 'Foltest',\n 'King',\n 'Eithné',\n 'Paulie',\n 'Falka',\n 'Stefan',\n 'Ithlinne',\n 'Donimir',\n 'Vereena',\n 'Count',\n 'Ihuarraquax',\n 'Mousesack',\n 'Tissaia',\n 'Nettly',\n 'Braenn',\n 'Freixenet',\n 'Voymir',\n 'Torque',\n 'Reynard',\n 'Ciri',\n 'Ethain',\n 'Sigismund',\n 'Sheala',\n 'Artaud',\n 'Arthur',\n 'Fabio',\n 'Emhyr',\n 'Vreemde',\n 'Lytta',\n 'Braathens',\n 'Rudiger',\n 'Adda',\n 'Milton',\n 'Vimme',\n 'Henselt',\n 'Renfri',\n 'Francesca',\n 'Dudu',\n 'Ceallach',\n 'Field',\n 'Roegner',\n 'Fringilla',\n 'Elan',\n 'Shani',\n 'Aen',\n 'Windsor',\n 'Vilgefortz',\n 'Demavend',\n 'Ambassador',\n 'Zoltan',\n 'Carduin',\n 'Keira',\n 'Hereward',\n 'Mistle',\n 'Kelpie',\n 'Galarr',\n 'Cahir',\n 'Stavro',\n 'Reynart',\n 'Guy',\n 'Brouver',\n 'Merlin',\n 'Philippa',\n 'Eskel',\n 'Yaevinn',\n 'Drogodar',\n 'Shilard',\n 'Zelest',\n 'Nimue',\n 'Barclay',\n 'Herbolth',\n 'Emiel',\n 'Kobus',\n 'Rainfarn',\n 'Falwick',\n 'Blue',\n 'Dennis',\n 'Toruviel',\n 'Ida',\n 'Two',\n 'Aillil',\n 'Geralt',\n 'Eltibald',\n 'Leo',\n 'Sword',\n 'Vattier',\n 'Fifteen',\n 'Haxo',\n 'Forest',\n 'Isengrim',\n 'Connor',\n 'Dorregaray',\n 'Morvran',\n 'Menno',\n 'Lebioda',\n 'Iola',\n 'Filavandrel',\n 'Bran',\n 'Sigrdrifa',\n 'Jan',\n 'Istredd',\n 'Radovid',\n 'Adam',\n 'Baron',\n 'Tavik',\n 'Xarthisius',\n 'Jacob',\n 'Auberon',\n 'Ori',\n 'Agloval',\n 'Hjalmar',\n 'Sabrina',\n 'Carthia',\n 'Ravix',\n 'Jarre',\n 'Regan',\n 'Vratimir',\n 'Errdil',\n 'Triss',\n 'Sheldon',\n 'Riordain',\n 'Fenne',\n 'Esterad',\n 'Caldemeyn',\n 'Dandelion',\n 'Lambert',\n 'Zuleyka',\n 'Libushe',\n 'Adalia',\n 'Aplegatt',\n 'Golan',\n 'Leticia',\n 'Yurga',\n 'Kayleigh',\n 'Fergus',\n 'Duke',\n 'Civril']"
     },
     "execution_count": 2,
     "metadata": {},
     "output_type": "execute_result"
    }
   ],
   "source": [
    "network.all_nodes()"
   ],
   "metadata": {
    "collapsed": false
   }
  },
  {
   "cell_type": "code",
   "execution_count": 3,
   "outputs": [
    {
     "name": "stdout",
     "output_type": "stream",
     "text": [
      "['Crach', 'Nohorn', 'Calanthe', 'Windhalm', 'Akerspaark', 'Vesemir', 'Audoen', 'Stregobor', 'Asse', 'Rumplestelt', 'Chireadan', 'Laurelnose', 'Nivellen', 'Dhun', 'Pavetta', 'Nenneke', 'Vissegerd', 'Fredefalk', 'Yennefer', 'Draig', 'Ostrit', 'Eist', 'Neville', 'Beau', 'Sir', 'Velerad', 'Vanadain', 'Roach', 'Lille', 'Foltest', 'Civril', 'King', 'Vereena', 'Count', 'Mousesack', 'Nettly', 'Torque', 'Adda', 'Renfri', 'Field', 'Roegner', 'Aen', 'Hereward', 'Galarr', 'Eskel', 'Drogodar', 'Rainfarn', 'Falwick', 'Dennis', 'Toruviel', 'Two', 'Geralt', 'Fifteen', 'Haxo', 'Iola', 'Filavandrel', 'Baron', 'Tavik', 'Ravix', 'Vratimir', 'Errdil', 'Triss', 'Fenne', 'Caldemeyn', 'Libushe']\n",
      "65\n"
     ]
    }
   ],
   "source": [
    "characters = network.all_nodes_with_link('1')\n",
    "print(characters)\n",
    "print(len(characters))"
   ],
   "metadata": {
    "collapsed": false
   }
  },
  {
   "cell_type": "code",
   "execution_count": 4,
   "outputs": [
    {
     "data": {
      "text/plain": "['Crach',\n 'Rience',\n 'Calanthe',\n 'Codringher',\n 'Vesemir',\n 'Eredin',\n 'Asse',\n 'Marti',\n 'Lydia',\n 'Aelirenn',\n 'Anna',\n 'Yannick',\n 'Molnar',\n 'Julia',\n 'Iskra',\n 'Assire',\n 'Vysogota',\n 'Pavetta',\n 'Seven',\n 'Meve',\n 'Nenneke',\n 'Little',\n 'Vissegerd',\n 'Milva',\n 'Yennefer',\n 'Rayla',\n 'Zoltan',\n 'Eist',\n 'Vanielle',\n 'Margarita',\n 'Gar',\n 'Sir',\n 'Beau',\n 'Yarpen',\n 'Roach',\n 'King',\n 'Eithné',\n 'Paulie',\n 'Falka',\n 'Stefan',\n 'Ihuarraquax',\n 'Count',\n 'Mousesack',\n 'Tissaia',\n 'Braenn',\n 'Freixenet',\n 'Fabio',\n 'Emhyr',\n 'Henselt',\n 'Francesca',\n 'Fringilla',\n 'Shani',\n 'Windsor',\n 'Aen',\n 'Vilgefortz',\n 'Mistle',\n 'Kelpie',\n 'Cahir',\n 'Stavro',\n 'Guy',\n 'Philippa',\n 'Eskel',\n 'Yaevinn',\n 'Shilard',\n 'Nimue',\n 'Emiel',\n 'Blue',\n 'Two',\n 'Geralt',\n 'Leo',\n 'Sword',\n 'Iola',\n 'Sigrdrifa',\n 'Bran',\n 'Jan',\n 'Radovid',\n 'Baron',\n 'Auberon',\n 'Ori',\n 'Hjalmar',\n 'Sabrina',\n 'Jarre',\n 'Regan',\n 'Triss',\n 'Dandelion',\n 'Lambert',\n 'Zuleyka',\n 'Aplegatt',\n 'Yurga',\n 'Kayleigh']"
     },
     "execution_count": 4,
     "metadata": {},
     "output_type": "execute_result"
    }
   ],
   "source": [
    "network.all_linked('Ciri')"
   ],
   "metadata": {
    "collapsed": false
   }
  },
  {
   "cell_type": "code",
   "execution_count": 5,
   "outputs": [
    {
     "data": {
      "text/plain": "['Geralt',\n 'Neville',\n 'Iola',\n 'Beau',\n 'Chireadan',\n 'Laurelnose',\n 'Errdil',\n 'Nenneke']"
     },
     "execution_count": 5,
     "metadata": {},
     "output_type": "execute_result"
    }
   ],
   "source": [
    "network.all_linked_by_type('Yennefer', '1')"
   ],
   "metadata": {
    "collapsed": false
   }
  },
  {
   "cell_type": "code",
   "execution_count": 6,
   "outputs": [
    {
     "name": "stdout",
     "output_type": "stream",
     "text": [
      "Warning: When  cdn_resources is 'local' jupyter notebook has issues displaying graphics on chrome/safari. Use cdn_resources='in_line' or cdn_resources='remote' if you have issues viewing graphics in a notebook.\n",
      "example.html\n"
     ]
    }
   ],
   "source": [
    "network.recursive_linked('Yennefer', 'Geralt')"
   ],
   "metadata": {
    "collapsed": false
   }
  },
  {
   "cell_type": "code",
   "execution_count": 7,
   "outputs": [
    {
     "ename": "KeyError",
     "evalue": "'Traget'",
     "output_type": "error",
     "traceback": [
      "\u001B[0;31m---------------------------------------------------------------------------\u001B[0m",
      "\u001B[0;31mKeyError\u001B[0m                                  Traceback (most recent call last)",
      "File \u001B[0;32m~/.pyenv/versions/witcher/lib/python3.10/site-packages/pandas/core/indexes/base.py:3652\u001B[0m, in \u001B[0;36mIndex.get_loc\u001B[0;34m(self, key)\u001B[0m\n\u001B[1;32m   3651\u001B[0m \u001B[38;5;28;01mtry\u001B[39;00m:\n\u001B[0;32m-> 3652\u001B[0m     \u001B[38;5;28;01mreturn\u001B[39;00m \u001B[38;5;28;43mself\u001B[39;49m\u001B[38;5;241;43m.\u001B[39;49m\u001B[43m_engine\u001B[49m\u001B[38;5;241;43m.\u001B[39;49m\u001B[43mget_loc\u001B[49m\u001B[43m(\u001B[49m\u001B[43mcasted_key\u001B[49m\u001B[43m)\u001B[49m\n\u001B[1;32m   3653\u001B[0m \u001B[38;5;28;01mexcept\u001B[39;00m \u001B[38;5;167;01mKeyError\u001B[39;00m \u001B[38;5;28;01mas\u001B[39;00m err:\n",
      "File \u001B[0;32m~/.pyenv/versions/witcher/lib/python3.10/site-packages/pandas/_libs/index.pyx:147\u001B[0m, in \u001B[0;36mpandas._libs.index.IndexEngine.get_loc\u001B[0;34m()\u001B[0m\n",
      "File \u001B[0;32m~/.pyenv/versions/witcher/lib/python3.10/site-packages/pandas/_libs/index.pyx:176\u001B[0m, in \u001B[0;36mpandas._libs.index.IndexEngine.get_loc\u001B[0;34m()\u001B[0m\n",
      "File \u001B[0;32mpandas/_libs/hashtable_class_helper.pxi:7080\u001B[0m, in \u001B[0;36mpandas._libs.hashtable.PyObjectHashTable.get_item\u001B[0;34m()\u001B[0m\n",
      "File \u001B[0;32mpandas/_libs/hashtable_class_helper.pxi:7088\u001B[0m, in \u001B[0;36mpandas._libs.hashtable.PyObjectHashTable.get_item\u001B[0;34m()\u001B[0m\n",
      "\u001B[0;31mKeyError\u001B[0m: 'Traget'",
      "\nThe above exception was the direct cause of the following exception:\n",
      "\u001B[0;31mKeyError\u001B[0m                                  Traceback (most recent call last)",
      "Cell \u001B[0;32mIn[7], line 1\u001B[0m\n\u001B[0;32m----> 1\u001B[0m \u001B[43mnetwork\u001B[49m\u001B[38;5;241;43m.\u001B[39;49m\u001B[43mvisualisation\u001B[49m\u001B[43m(\u001B[49m\u001B[43m)\u001B[49m\n",
      "File \u001B[0;32m~/Work/witcher-semantic-network/witcher_network.py:23\u001B[0m, in \u001B[0;36mWitcherNetwork.visualisation\u001B[0;34m(self)\u001B[0m\n\u001B[1;32m     22\u001B[0m \u001B[38;5;28;01mdef\u001B[39;00m \u001B[38;5;21mvisualisation\u001B[39m(\u001B[38;5;28mself\u001B[39m):\n\u001B[0;32m---> 23\u001B[0m     graph \u001B[38;5;241m=\u001B[39m \u001B[43mnx\u001B[49m\u001B[38;5;241;43m.\u001B[39;49m\u001B[43mfrom_pandas_edgelist\u001B[49m\u001B[43m(\u001B[49m\n\u001B[1;32m     24\u001B[0m \u001B[43m        \u001B[49m\u001B[38;5;28;43mself\u001B[39;49m\u001B[38;5;241;43m.\u001B[39;49m\u001B[43mdataset\u001B[49m\u001B[43m,\u001B[49m\n\u001B[1;32m     25\u001B[0m \u001B[43m        \u001B[49m\u001B[43msource\u001B[49m\u001B[38;5;241;43m=\u001B[39;49m\u001B[38;5;124;43m'\u001B[39;49m\u001B[38;5;124;43mSource\u001B[39;49m\u001B[38;5;124;43m'\u001B[39;49m\u001B[43m,\u001B[49m\n\u001B[1;32m     26\u001B[0m \u001B[43m        \u001B[49m\u001B[43mtarget\u001B[49m\u001B[38;5;241;43m=\u001B[39;49m\u001B[38;5;124;43m'\u001B[39;49m\u001B[38;5;124;43mTraget\u001B[39;49m\u001B[38;5;124;43m'\u001B[39;49m\u001B[43m,\u001B[49m\n\u001B[1;32m     27\u001B[0m \u001B[43m        \u001B[49m\u001B[43medge_attr\u001B[49m\u001B[38;5;241;43m=\u001B[39;49m\u001B[38;5;124;43m'\u001B[39;49m\u001B[38;5;124;43mbook\u001B[39;49m\u001B[38;5;124;43m'\u001B[39;49m\n\u001B[1;32m     28\u001B[0m \u001B[43m    \u001B[49m\u001B[43m)\u001B[49m\n\u001B[1;32m     29\u001B[0m     net \u001B[38;5;241m=\u001B[39m Network(notebook\u001B[38;5;241m=\u001B[39m\u001B[38;5;28;01mTrue\u001B[39;00m)\n\u001B[1;32m     30\u001B[0m     net\u001B[38;5;241m.\u001B[39mfrom_nx(graph)\n",
      "File \u001B[0;32m~/.pyenv/versions/witcher/lib/python3.10/site-packages/networkx/convert_matrix.py:459\u001B[0m, in \u001B[0;36mfrom_pandas_edgelist\u001B[0;34m(df, source, target, edge_attr, create_using, edge_key)\u001B[0m\n\u001B[1;32m    457\u001B[0m         g[s][t][key]\u001B[38;5;241m.\u001B[39mupdate(\u001B[38;5;28mzip\u001B[39m(attr_col_headings, attrs))\n\u001B[1;32m    458\u001B[0m \u001B[38;5;28;01melse\u001B[39;00m:\n\u001B[0;32m--> 459\u001B[0m     \u001B[38;5;28;01mfor\u001B[39;00m s, t, attrs \u001B[38;5;129;01min\u001B[39;00m \u001B[38;5;28mzip\u001B[39m(df[source], \u001B[43mdf\u001B[49m\u001B[43m[\u001B[49m\u001B[43mtarget\u001B[49m\u001B[43m]\u001B[49m, attribute_data):\n\u001B[1;32m    460\u001B[0m         g\u001B[38;5;241m.\u001B[39madd_edge(s, t)\n\u001B[1;32m    461\u001B[0m         g[s][t]\u001B[38;5;241m.\u001B[39mupdate(\u001B[38;5;28mzip\u001B[39m(attr_col_headings, attrs))\n",
      "File \u001B[0;32m~/.pyenv/versions/witcher/lib/python3.10/site-packages/pandas/core/frame.py:3760\u001B[0m, in \u001B[0;36mDataFrame.__getitem__\u001B[0;34m(self, key)\u001B[0m\n\u001B[1;32m   3758\u001B[0m \u001B[38;5;28;01mif\u001B[39;00m \u001B[38;5;28mself\u001B[39m\u001B[38;5;241m.\u001B[39mcolumns\u001B[38;5;241m.\u001B[39mnlevels \u001B[38;5;241m>\u001B[39m \u001B[38;5;241m1\u001B[39m:\n\u001B[1;32m   3759\u001B[0m     \u001B[38;5;28;01mreturn\u001B[39;00m \u001B[38;5;28mself\u001B[39m\u001B[38;5;241m.\u001B[39m_getitem_multilevel(key)\n\u001B[0;32m-> 3760\u001B[0m indexer \u001B[38;5;241m=\u001B[39m \u001B[38;5;28;43mself\u001B[39;49m\u001B[38;5;241;43m.\u001B[39;49m\u001B[43mcolumns\u001B[49m\u001B[38;5;241;43m.\u001B[39;49m\u001B[43mget_loc\u001B[49m\u001B[43m(\u001B[49m\u001B[43mkey\u001B[49m\u001B[43m)\u001B[49m\n\u001B[1;32m   3761\u001B[0m \u001B[38;5;28;01mif\u001B[39;00m is_integer(indexer):\n\u001B[1;32m   3762\u001B[0m     indexer \u001B[38;5;241m=\u001B[39m [indexer]\n",
      "File \u001B[0;32m~/.pyenv/versions/witcher/lib/python3.10/site-packages/pandas/core/indexes/base.py:3654\u001B[0m, in \u001B[0;36mIndex.get_loc\u001B[0;34m(self, key)\u001B[0m\n\u001B[1;32m   3652\u001B[0m     \u001B[38;5;28;01mreturn\u001B[39;00m \u001B[38;5;28mself\u001B[39m\u001B[38;5;241m.\u001B[39m_engine\u001B[38;5;241m.\u001B[39mget_loc(casted_key)\n\u001B[1;32m   3653\u001B[0m \u001B[38;5;28;01mexcept\u001B[39;00m \u001B[38;5;167;01mKeyError\u001B[39;00m \u001B[38;5;28;01mas\u001B[39;00m err:\n\u001B[0;32m-> 3654\u001B[0m     \u001B[38;5;28;01mraise\u001B[39;00m \u001B[38;5;167;01mKeyError\u001B[39;00m(key) \u001B[38;5;28;01mfrom\u001B[39;00m \u001B[38;5;21;01merr\u001B[39;00m\n\u001B[1;32m   3655\u001B[0m \u001B[38;5;28;01mexcept\u001B[39;00m \u001B[38;5;167;01mTypeError\u001B[39;00m:\n\u001B[1;32m   3656\u001B[0m     \u001B[38;5;66;03m# If we have a listlike key, _check_indexing_error will raise\u001B[39;00m\n\u001B[1;32m   3657\u001B[0m     \u001B[38;5;66;03m#  InvalidIndexError. Otherwise we fall through and re-raise\u001B[39;00m\n\u001B[1;32m   3658\u001B[0m     \u001B[38;5;66;03m#  the TypeError.\u001B[39;00m\n\u001B[1;32m   3659\u001B[0m     \u001B[38;5;28mself\u001B[39m\u001B[38;5;241m.\u001B[39m_check_indexing_error(key)\n",
      "\u001B[0;31mKeyError\u001B[0m: 'Traget'"
     ]
    }
   ],
   "source": [
    "network.visualisation()"
   ],
   "metadata": {
    "collapsed": false
   }
  }
 ],
 "metadata": {
  "kernelspec": {
   "display_name": "Python 3",
   "language": "python",
   "name": "python3"
  },
  "language_info": {
   "codemirror_mode": {
    "name": "ipython",
    "version": 2
   },
   "file_extension": ".py",
   "mimetype": "text/x-python",
   "name": "python",
   "nbconvert_exporter": "python",
   "pygments_lexer": "ipython2",
   "version": "2.7.6"
  }
 },
 "nbformat": 4,
 "nbformat_minor": 0
}
